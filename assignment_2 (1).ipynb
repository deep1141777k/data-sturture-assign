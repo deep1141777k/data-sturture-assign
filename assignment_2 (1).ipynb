{
  "nbformat": 4,
  "nbformat_minor": 0,
  "metadata": {
    "colab": {
      "provenance": []
    },
    "kernelspec": {
      "name": "python3",
      "display_name": "Python 3"
    },
    "language_info": {
      "name": "python"
    }
  },
  "cells": [
    {
      "cell_type": "markdown",
      "source": [
        "Ans 1)string slicing means to get specific parts of a string by using start, end and step values"
      ],
      "metadata": {
        "id": "dSV-_LPmL2zk"
      }
    },
    {
      "cell_type": "code",
      "execution_count": null,
      "metadata": {
        "colab": {
          "base_uri": "https://localhost:8080/"
        },
        "id": "NWOzmKoHKc6X",
        "outputId": "90a85cec-61ce-43e2-df00-c4a48e81bbf0"
      },
      "outputs": [
        {
          "output_type": "stream",
          "name": "stdout",
          "text": [
            "hello e\n",
            "l vroe\n"
          ]
        }
      ],
      "source": [
        "#slicing example\n",
        "word=\"hello everyone, welcome to the class\"\n",
        "w1=word[0:7]# simple slicing without step\n",
        "print(w1)\n",
        "w2=word[3:15:2]#with step slicing\n",
        "print(w2)"
      ]
    },
    {
      "cell_type": "markdown",
      "source": [
        "ans 2) 1. list are order collection of items.\n",
        "2. list are mutable.\n",
        "3. we can add,remove, and update the list items.\n"
      ],
      "metadata": {
        "id": "mCypglL3Lw1c"
      }
    },
    {
      "cell_type": "markdown",
      "source": [
        "ans 3) list access, modify and remove"
      ],
      "metadata": {
        "id": "6e7OO5xpOMpZ"
      }
    },
    {
      "cell_type": "code",
      "source": [
        "lis=[\"deepika\",\"pws\",\"advik\",23,34.5]\n",
        "print(lis[4])# access the list element\n",
        "lis[3]=55# update or modify the element\n",
        "print(lis)\n",
        "lis.append(\"go\")\n",
        "print(lis)\n",
        "lis.remove(\"pws\")#remove element\n",
        "print(lis)\n"
      ],
      "metadata": {
        "colab": {
          "base_uri": "https://localhost:8080/"
        },
        "id": "gh0FjFcSOm5s",
        "outputId": "2e8edc32-9531-469f-ee61-f6880bfa5e8b"
      },
      "execution_count": null,
      "outputs": [
        {
          "output_type": "stream",
          "name": "stdout",
          "text": [
            "34.5\n",
            "['deepika', 'pws', 'advik', 55, 34.5]\n",
            "['deepika', 'pws', 'advik', 55, 34.5, 'go']\n",
            "['deepika', 'advik', 55, 34.5, 'go']\n"
          ]
        }
      ]
    },
    {
      "cell_type": "markdown",
      "source": [
        "Ans 4) **list **                      \n",
        "1.list are mutable                  \n",
        "2.list is better for performing operation such as insertion and deletion\n",
        "\n",
        "**tuple**\n",
        "1, tuples are immutable\n",
        "2. tuple data type is appropriate for accessing the element.\n"
      ],
      "metadata": {
        "id": "FeJhcGOQRPv3"
      }
    },
    {
      "cell_type": "code",
      "source": [
        "#list example\n",
        "l=[\"rrr\",\"uuu\", 66,64,23,56,77]\n",
        "print(l)\n",
        "l[5]=22\n",
        "print(l)"
      ],
      "metadata": {
        "colab": {
          "base_uri": "https://localhost:8080/"
        },
        "id": "2IA0foKFOm7x",
        "outputId": "e6cc5035-32d0-4fa1-c002-613d0b499c43"
      },
      "execution_count": null,
      "outputs": [
        {
          "output_type": "stream",
          "name": "stdout",
          "text": [
            "['rrr', 'uuu', 66, 64, 23, 56, 77]\n",
            "['rrr', 'uuu', 66, 64, 23, 22, 77]\n"
          ]
        }
      ]
    },
    {
      "cell_type": "code",
      "source": [
        "# tuple example\n",
        "t=(0,9,8,7)\n",
        "print(t)\n",
        "t[3]=8\n",
        "print(t)"
      ],
      "metadata": {
        "colab": {
          "base_uri": "https://localhost:8080/",
          "height": 211
        },
        "id": "dU4KgUQLOm_t",
        "outputId": "b2d8dc7d-ee88-4001-bc05-5c71d6809cad"
      },
      "execution_count": null,
      "outputs": [
        {
          "output_type": "stream",
          "name": "stdout",
          "text": [
            "(0, 9, 8, 7)\n"
          ]
        },
        {
          "output_type": "error",
          "ename": "TypeError",
          "evalue": "'tuple' object does not support item assignment",
          "traceback": [
            "\u001b[0;31m---------------------------------------------------------------------------\u001b[0m",
            "\u001b[0;31mTypeError\u001b[0m                                 Traceback (most recent call last)",
            "\u001b[0;32m<ipython-input-16-3fa055f928e3>\u001b[0m in \u001b[0;36m<cell line: 4>\u001b[0;34m()\u001b[0m\n\u001b[1;32m      2\u001b[0m \u001b[0mt\u001b[0m\u001b[0;34m=\u001b[0m\u001b[0;34m(\u001b[0m\u001b[0;36m0\u001b[0m\u001b[0;34m,\u001b[0m\u001b[0;36m9\u001b[0m\u001b[0;34m,\u001b[0m\u001b[0;36m8\u001b[0m\u001b[0;34m,\u001b[0m\u001b[0;36m7\u001b[0m\u001b[0;34m)\u001b[0m\u001b[0;34m\u001b[0m\u001b[0;34m\u001b[0m\u001b[0m\n\u001b[1;32m      3\u001b[0m \u001b[0mprint\u001b[0m\u001b[0;34m(\u001b[0m\u001b[0mt\u001b[0m\u001b[0;34m)\u001b[0m\u001b[0;34m\u001b[0m\u001b[0;34m\u001b[0m\u001b[0m\n\u001b[0;32m----> 4\u001b[0;31m \u001b[0mt\u001b[0m\u001b[0;34m[\u001b[0m\u001b[0;36m3\u001b[0m\u001b[0;34m]\u001b[0m\u001b[0;34m=\u001b[0m\u001b[0;36m8\u001b[0m\u001b[0;34m\u001b[0m\u001b[0;34m\u001b[0m\u001b[0m\n\u001b[0m\u001b[1;32m      5\u001b[0m \u001b[0mprint\u001b[0m\u001b[0;34m(\u001b[0m\u001b[0mt\u001b[0m\u001b[0;34m)\u001b[0m\u001b[0;34m\u001b[0m\u001b[0;34m\u001b[0m\u001b[0m\n",
            "\u001b[0;31mTypeError\u001b[0m: 'tuple' object does not support item assignment"
          ]
        }
      ]
    },
    {
      "cell_type": "markdown",
      "source": [
        "Ans5) Set is a collection which is unordered, unchange ,unindexed.\n",
        "set can only add and remove items.duplicate item not allowed"
      ],
      "metadata": {
        "id": "kvHsM5ZeTo6D"
      }
    },
    {
      "cell_type": "code",
      "source": [
        "set1={23,45,\"deep\",False}\n",
        "print(set1)\n",
        "set1.update([55])#update\n",
        "print(set1)"
      ],
      "metadata": {
        "colab": {
          "base_uri": "https://localhost:8080/"
        },
        "id": "75McHGYVUiSp",
        "outputId": "73c80da9-6217-404e-dc1f-2f0c0aeb98d3"
      },
      "execution_count": null,
      "outputs": [
        {
          "output_type": "stream",
          "name": "stdout",
          "text": [
            "{False, 'deep', 45, 23}\n",
            "{False, 'deep', 45, 23, 55}\n"
          ]
        }
      ]
    },
    {
      "cell_type": "code",
      "source": [
        "#ans 6)use case of tuple - 1. fixed collection of items 2. dictionary keys  3. returning multiple values from functions\n",
        "#use case of set-1. removing duplicates from a collection 2. membership testing  3. mathematical set operation"
      ],
      "metadata": {
        "id": "hJVJWlfJW_-U"
      },
      "execution_count": null,
      "outputs": []
    },
    {
      "cell_type": "code",
      "source": [
        "#ans 7)\n",
        "d={1:\"aaa\",2:\"bbb\"}\n",
        "print(d) #access the dict\n",
        "d[2]=\"ccc\"#modify\n",
        "print(d)\n",
        "d.pop(2)#remove\n",
        "print(d)"
      ],
      "metadata": {
        "id": "EZCcUWP1XASu",
        "colab": {
          "base_uri": "https://localhost:8080/"
        },
        "outputId": "89844ade-c4db-48b4-fa9d-b77e2af08140"
      },
      "execution_count": null,
      "outputs": [
        {
          "output_type": "stream",
          "name": "stdout",
          "text": [
            "{1: 'aaa', 2: 'bbb'}\n",
            "{1: 'aaa', 2: 'ccc'}\n",
            "{1: 'aaa'}\n"
          ]
        }
      ]
    },
    {
      "cell_type": "markdown",
      "source": [
        "Ans8)few reasons of keys immutability\n",
        "1. hashing consistency\n",
        "2. efficient lookups\n",
        "3. data integrity and consistency"
      ],
      "metadata": {
        "id": "JEveldCjXICe"
      }
    },
    {
      "cell_type": "code",
      "source": [],
      "metadata": {
        "id": "7Arkc7mUXHsd"
      },
      "execution_count": null,
      "outputs": []
    },
    {
      "cell_type": "code",
      "source": [],
      "metadata": {
        "id": "jKr-7m3cXHPf"
      },
      "execution_count": null,
      "outputs": []
    },
    {
      "cell_type": "code",
      "source": [],
      "metadata": {
        "id": "izbjynuZXAaR"
      },
      "execution_count": null,
      "outputs": []
    },
    {
      "cell_type": "code",
      "source": [],
      "metadata": {
        "id": "1LVSDP91XAfI"
      },
      "execution_count": null,
      "outputs": []
    },
    {
      "cell_type": "code",
      "source": [],
      "metadata": {
        "id": "sVG8jHK8XAhc"
      },
      "execution_count": null,
      "outputs": []
    },
    {
      "cell_type": "code",
      "source": [],
      "metadata": {
        "id": "-ln0Bxs3XAmt"
      },
      "execution_count": null,
      "outputs": []
    }
  ]
}